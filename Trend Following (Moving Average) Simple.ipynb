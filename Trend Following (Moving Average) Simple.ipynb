{
 "cells": [
  {
   "cell_type": "markdown",
   "metadata": {},
   "source": [
    "# Moving Average"
   ]
  },
  {
   "cell_type": "markdown",
   "metadata": {},
   "source": [
    "- Calculate signal based on moving average crossover\n",
    "- We will always by \"in\" a trade, either long or short, for this strategy"
   ]
  },
  {
   "cell_type": "code",
   "execution_count": 1,
   "metadata": {},
   "outputs": [],
   "source": [
    "import numpy as np\n",
    "import pandas as pd\n",
    "import pandas_datareader as pdr\n",
    "from datetime import datetime, timedelta\n",
    "import matplotlib.pyplot as plt\n",
    "import yfinance as yf\n",
    "\n",
    "# Hiding warnings \n",
    "import warnings\n",
    "warnings.filterwarnings(\"ignore\")"
   ]
  },
  {
   "cell_type": "code",
   "execution_count": 2,
   "metadata": {},
   "outputs": [
    {
     "name": "stderr",
     "output_type": "stream",
     "text": [
      "[*********************100%%**********************]  1 of 1 completed\n"
     ]
    },
    {
     "data": {
      "text/html": [
       "<div>\n",
       "<style scoped>\n",
       "    .dataframe tbody tr th:only-of-type {\n",
       "        vertical-align: middle;\n",
       "    }\n",
       "\n",
       "    .dataframe tbody tr th {\n",
       "        vertical-align: top;\n",
       "    }\n",
       "\n",
       "    .dataframe thead th {\n",
       "        text-align: right;\n",
       "    }\n",
       "</style>\n",
       "<table border=\"1\" class=\"dataframe\">\n",
       "  <thead>\n",
       "    <tr style=\"text-align: right;\">\n",
       "      <th></th>\n",
       "      <th>day</th>\n",
       "      <th>Open</th>\n",
       "      <th>High</th>\n",
       "      <th>Low</th>\n",
       "      <th>Close</th>\n",
       "    </tr>\n",
       "    <tr>\n",
       "      <th>Date</th>\n",
       "      <th></th>\n",
       "      <th></th>\n",
       "      <th></th>\n",
       "      <th></th>\n",
       "      <th></th>\n",
       "    </tr>\n",
       "  </thead>\n",
       "  <tbody>\n",
       "    <tr>\n",
       "      <th>2023-07-10</th>\n",
       "      <td>1</td>\n",
       "      <td>178.369995</td>\n",
       "      <td>178.919998</td>\n",
       "      <td>178.259995</td>\n",
       "      <td>178.779999</td>\n",
       "    </tr>\n",
       "    <tr>\n",
       "      <th>2023-07-11</th>\n",
       "      <td>2</td>\n",
       "      <td>179.429993</td>\n",
       "      <td>179.710007</td>\n",
       "      <td>179.130005</td>\n",
       "      <td>179.449997</td>\n",
       "    </tr>\n",
       "    <tr>\n",
       "      <th>2023-07-12</th>\n",
       "      <td>3</td>\n",
       "      <td>181.179993</td>\n",
       "      <td>181.949997</td>\n",
       "      <td>181.100006</td>\n",
       "      <td>181.880005</td>\n",
       "    </tr>\n",
       "    <tr>\n",
       "      <th>2023-07-13</th>\n",
       "      <td>4</td>\n",
       "      <td>181.960007</td>\n",
       "      <td>182.149994</td>\n",
       "      <td>181.490005</td>\n",
       "      <td>182.009995</td>\n",
       "    </tr>\n",
       "    <tr>\n",
       "      <th>2023-07-14</th>\n",
       "      <td>5</td>\n",
       "      <td>181.589996</td>\n",
       "      <td>182.169998</td>\n",
       "      <td>181.110001</td>\n",
       "      <td>181.429993</td>\n",
       "    </tr>\n",
       "  </tbody>\n",
       "</table>\n",
       "</div>"
      ],
      "text/plain": [
       "            day        Open        High         Low       Close\n",
       "Date                                                           \n",
       "2023-07-10    1  178.369995  178.919998  178.259995  178.779999\n",
       "2023-07-11    2  179.429993  179.710007  179.130005  179.449997\n",
       "2023-07-12    3  181.179993  181.949997  181.100006  181.880005\n",
       "2023-07-13    4  181.960007  182.149994  181.490005  182.009995\n",
       "2023-07-14    5  181.589996  182.169998  181.110001  181.429993"
      ]
     },
     "execution_count": 2,
     "metadata": {},
     "output_type": "execute_result"
    }
   ],
   "source": [
    "today = datetime.today()\n",
    "one_year_ago = today - timedelta(days=365)\n",
    "\n",
    "gld = yf.download('GLD', start=one_year_ago, end=today) # the gold ETF\n",
    "day = np.arange(1, len(gld) + 1)\n",
    "gld['day'] = day\n",
    "gld.drop(columns=['Adj Close', 'Volume'], inplace = True)\n",
    "gld = gld[['day', 'Open', 'High', 'Low', 'Close']]\n",
    "gld.head()"
   ]
  },
  {
   "cell_type": "code",
   "execution_count": 3,
   "metadata": {},
   "outputs": [
    {
     "name": "stdout",
     "output_type": "stream",
     "text": [
      "<class 'pandas.core.frame.DataFrame'>\n",
      "DatetimeIndex: 251 entries, 2023-07-10 to 2024-07-08\n",
      "Data columns (total 5 columns):\n",
      " #   Column  Non-Null Count  Dtype  \n",
      "---  ------  --------------  -----  \n",
      " 0   day     251 non-null    int64  \n",
      " 1   Open    251 non-null    float64\n",
      " 2   High    251 non-null    float64\n",
      " 3   Low     251 non-null    float64\n",
      " 4   Close   251 non-null    float64\n",
      "dtypes: float64(4), int64(1)\n",
      "memory usage: 11.8 KB\n"
     ]
    }
   ],
   "source": [
    "gld.info()"
   ]
  },
  {
   "cell_type": "code",
   "execution_count": 4,
   "metadata": {},
   "outputs": [
    {
     "data": {
      "text/html": [
       "<div>\n",
       "<style scoped>\n",
       "    .dataframe tbody tr th:only-of-type {\n",
       "        vertical-align: middle;\n",
       "    }\n",
       "\n",
       "    .dataframe tbody tr th {\n",
       "        vertical-align: top;\n",
       "    }\n",
       "\n",
       "    .dataframe thead th {\n",
       "        text-align: right;\n",
       "    }\n",
       "</style>\n",
       "<table border=\"1\" class=\"dataframe\">\n",
       "  <thead>\n",
       "    <tr style=\"text-align: right;\">\n",
       "      <th></th>\n",
       "      <th>day</th>\n",
       "      <th>Open</th>\n",
       "      <th>High</th>\n",
       "      <th>Low</th>\n",
       "      <th>Close</th>\n",
       "      <th>1-day</th>\n",
       "      <th>10-day</th>\n",
       "    </tr>\n",
       "    <tr>\n",
       "      <th>Date</th>\n",
       "      <th></th>\n",
       "      <th></th>\n",
       "      <th></th>\n",
       "      <th></th>\n",
       "      <th></th>\n",
       "      <th></th>\n",
       "      <th></th>\n",
       "    </tr>\n",
       "  </thead>\n",
       "  <tbody>\n",
       "    <tr>\n",
       "      <th>2023-07-20</th>\n",
       "      <td>9</td>\n",
       "      <td>183.729996</td>\n",
       "      <td>183.770004</td>\n",
       "      <td>182.470001</td>\n",
       "      <td>182.740005</td>\n",
       "      <td>183.669998</td>\n",
       "      <td>NaN</td>\n",
       "    </tr>\n",
       "    <tr>\n",
       "      <th>2023-07-21</th>\n",
       "      <td>10</td>\n",
       "      <td>182.059998</td>\n",
       "      <td>182.460007</td>\n",
       "      <td>181.679993</td>\n",
       "      <td>182.179993</td>\n",
       "      <td>182.740005</td>\n",
       "      <td>NaN</td>\n",
       "    </tr>\n",
       "    <tr>\n",
       "      <th>2023-07-24</th>\n",
       "      <td>11</td>\n",
       "      <td>182.220001</td>\n",
       "      <td>182.539993</td>\n",
       "      <td>181.339996</td>\n",
       "      <td>181.399994</td>\n",
       "      <td>182.179993</td>\n",
       "      <td>181.733998</td>\n",
       "    </tr>\n",
       "    <tr>\n",
       "      <th>2023-07-25</th>\n",
       "      <td>12</td>\n",
       "      <td>181.720001</td>\n",
       "      <td>182.470001</td>\n",
       "      <td>181.100006</td>\n",
       "      <td>182.410004</td>\n",
       "      <td>181.399994</td>\n",
       "      <td>181.995998</td>\n",
       "    </tr>\n",
       "    <tr>\n",
       "      <th>2023-07-26</th>\n",
       "      <td>13</td>\n",
       "      <td>182.660004</td>\n",
       "      <td>183.639999</td>\n",
       "      <td>182.309998</td>\n",
       "      <td>183.300003</td>\n",
       "      <td>182.410004</td>\n",
       "      <td>182.291998</td>\n",
       "    </tr>\n",
       "  </tbody>\n",
       "</table>\n",
       "</div>"
      ],
      "text/plain": [
       "            day        Open        High         Low       Close       1-day  \\\n",
       "Date                                                                          \n",
       "2023-07-20    9  183.729996  183.770004  182.470001  182.740005  183.669998   \n",
       "2023-07-21   10  182.059998  182.460007  181.679993  182.179993  182.740005   \n",
       "2023-07-24   11  182.220001  182.539993  181.339996  181.399994  182.179993   \n",
       "2023-07-25   12  181.720001  182.470001  181.100006  182.410004  181.399994   \n",
       "2023-07-26   13  182.660004  183.639999  182.309998  183.300003  182.410004   \n",
       "\n",
       "                10-day  \n",
       "Date                    \n",
       "2023-07-20         NaN  \n",
       "2023-07-21         NaN  \n",
       "2023-07-24  181.733998  \n",
       "2023-07-25  181.995998  \n",
       "2023-07-26  182.291998  "
      ]
     },
     "execution_count": 4,
     "metadata": {},
     "output_type": "execute_result"
    }
   ],
   "source": [
    "# Fast Moving Average\n",
    "num1 = 1\n",
    "# Slow Moving Average\n",
    "num2 = 10\n",
    "gld['1-day'] = gld['Close'].rolling(num1).mean().shift() # shift() here is to roll moving average forward for 1 day to avoid implied look ahead\n",
    "gld['10-day'] = gld['Close'].rolling(num2).mean().shift()\n",
    "gld[num2-2:num2+3]"
   ]
  },
  {
   "cell_type": "code",
   "execution_count": 5,
   "metadata": {},
   "outputs": [
    {
     "data": {
      "text/html": [
       "<div>\n",
       "<style scoped>\n",
       "    .dataframe tbody tr th:only-of-type {\n",
       "        vertical-align: middle;\n",
       "    }\n",
       "\n",
       "    .dataframe tbody tr th {\n",
       "        vertical-align: top;\n",
       "    }\n",
       "\n",
       "    .dataframe thead th {\n",
       "        text-align: right;\n",
       "    }\n",
       "</style>\n",
       "<table border=\"1\" class=\"dataframe\">\n",
       "  <thead>\n",
       "    <tr style=\"text-align: right;\">\n",
       "      <th></th>\n",
       "      <th>day</th>\n",
       "      <th>Open</th>\n",
       "      <th>High</th>\n",
       "      <th>Low</th>\n",
       "      <th>Close</th>\n",
       "      <th>1-day</th>\n",
       "      <th>10-day</th>\n",
       "      <th>signal</th>\n",
       "    </tr>\n",
       "    <tr>\n",
       "      <th>Date</th>\n",
       "      <th></th>\n",
       "      <th></th>\n",
       "      <th></th>\n",
       "      <th></th>\n",
       "      <th></th>\n",
       "      <th></th>\n",
       "      <th></th>\n",
       "      <th></th>\n",
       "    </tr>\n",
       "  </thead>\n",
       "  <tbody>\n",
       "    <tr>\n",
       "      <th>2023-07-24</th>\n",
       "      <td>11</td>\n",
       "      <td>182.220001</td>\n",
       "      <td>182.539993</td>\n",
       "      <td>181.339996</td>\n",
       "      <td>181.399994</td>\n",
       "      <td>182.179993</td>\n",
       "      <td>181.733998</td>\n",
       "      <td>1</td>\n",
       "    </tr>\n",
       "    <tr>\n",
       "      <th>2023-07-25</th>\n",
       "      <td>12</td>\n",
       "      <td>181.720001</td>\n",
       "      <td>182.470001</td>\n",
       "      <td>181.100006</td>\n",
       "      <td>182.410004</td>\n",
       "      <td>181.399994</td>\n",
       "      <td>181.995998</td>\n",
       "      <td>-1</td>\n",
       "    </tr>\n",
       "    <tr>\n",
       "      <th>2023-07-26</th>\n",
       "      <td>13</td>\n",
       "      <td>182.660004</td>\n",
       "      <td>183.639999</td>\n",
       "      <td>182.309998</td>\n",
       "      <td>183.300003</td>\n",
       "      <td>182.410004</td>\n",
       "      <td>182.291998</td>\n",
       "      <td>1</td>\n",
       "    </tr>\n",
       "    <tr>\n",
       "      <th>2023-07-27</th>\n",
       "      <td>14</td>\n",
       "      <td>181.639999</td>\n",
       "      <td>181.639999</td>\n",
       "      <td>180.320007</td>\n",
       "      <td>180.419998</td>\n",
       "      <td>183.300003</td>\n",
       "      <td>182.433998</td>\n",
       "      <td>1</td>\n",
       "    </tr>\n",
       "    <tr>\n",
       "      <th>2023-07-28</th>\n",
       "      <td>15</td>\n",
       "      <td>181.479996</td>\n",
       "      <td>182.270004</td>\n",
       "      <td>181.250000</td>\n",
       "      <td>181.860001</td>\n",
       "      <td>180.419998</td>\n",
       "      <td>182.274998</td>\n",
       "      <td>-1</td>\n",
       "    </tr>\n",
       "  </tbody>\n",
       "</table>\n",
       "</div>"
      ],
      "text/plain": [
       "            day        Open        High         Low       Close       1-day  \\\n",
       "Date                                                                          \n",
       "2023-07-24   11  182.220001  182.539993  181.339996  181.399994  182.179993   \n",
       "2023-07-25   12  181.720001  182.470001  181.100006  182.410004  181.399994   \n",
       "2023-07-26   13  182.660004  183.639999  182.309998  183.300003  182.410004   \n",
       "2023-07-27   14  181.639999  181.639999  180.320007  180.419998  183.300003   \n",
       "2023-07-28   15  181.479996  182.270004  181.250000  181.860001  180.419998   \n",
       "\n",
       "                10-day  signal  \n",
       "Date                            \n",
       "2023-07-24  181.733998       1  \n",
       "2023-07-25  181.995998      -1  \n",
       "2023-07-26  182.291998       1  \n",
       "2023-07-27  182.433998       1  \n",
       "2023-07-28  182.274998      -1  "
      ]
     },
     "execution_count": 5,
     "metadata": {},
     "output_type": "execute_result"
    }
   ],
   "source": [
    "# Add \"signal\" column\n",
    "# Long\n",
    "gld['signal'] = np.where(gld['1-day'] > gld['10-day'], 1, 0)\n",
    "# Short\n",
    "gld['signal'] = np.where(gld['1-day'] < gld['10-day'], -1, gld['signal'])\n",
    "gld.dropna(inplace=True)\n",
    "gld.head()"
   ]
  },
  {
   "cell_type": "code",
   "execution_count": 6,
   "metadata": {},
   "outputs": [
    {
     "data": {
      "text/html": [
       "<div>\n",
       "<style scoped>\n",
       "    .dataframe tbody tr th:only-of-type {\n",
       "        vertical-align: middle;\n",
       "    }\n",
       "\n",
       "    .dataframe tbody tr th {\n",
       "        vertical-align: top;\n",
       "    }\n",
       "\n",
       "    .dataframe thead th {\n",
       "        text-align: right;\n",
       "    }\n",
       "</style>\n",
       "<table border=\"1\" class=\"dataframe\">\n",
       "  <thead>\n",
       "    <tr style=\"text-align: right;\">\n",
       "      <th></th>\n",
       "      <th>day</th>\n",
       "      <th>Open</th>\n",
       "      <th>High</th>\n",
       "      <th>Low</th>\n",
       "      <th>Close</th>\n",
       "      <th>1-day</th>\n",
       "      <th>10-day</th>\n",
       "      <th>signal</th>\n",
       "      <th>return</th>\n",
       "      <th>system_return</th>\n",
       "      <th>entry</th>\n",
       "    </tr>\n",
       "    <tr>\n",
       "      <th>Date</th>\n",
       "      <th></th>\n",
       "      <th></th>\n",
       "      <th></th>\n",
       "      <th></th>\n",
       "      <th></th>\n",
       "      <th></th>\n",
       "      <th></th>\n",
       "      <th></th>\n",
       "      <th></th>\n",
       "      <th></th>\n",
       "      <th></th>\n",
       "    </tr>\n",
       "  </thead>\n",
       "  <tbody>\n",
       "    <tr>\n",
       "      <th>2023-07-24</th>\n",
       "      <td>11</td>\n",
       "      <td>182.220001</td>\n",
       "      <td>182.539993</td>\n",
       "      <td>181.339996</td>\n",
       "      <td>181.399994</td>\n",
       "      <td>182.179993</td>\n",
       "      <td>181.733998</td>\n",
       "      <td>1</td>\n",
       "      <td>NaN</td>\n",
       "      <td>NaN</td>\n",
       "      <td>NaN</td>\n",
       "    </tr>\n",
       "    <tr>\n",
       "      <th>2023-07-25</th>\n",
       "      <td>12</td>\n",
       "      <td>181.720001</td>\n",
       "      <td>182.470001</td>\n",
       "      <td>181.100006</td>\n",
       "      <td>182.410004</td>\n",
       "      <td>181.399994</td>\n",
       "      <td>181.995998</td>\n",
       "      <td>-1</td>\n",
       "      <td>0.005552</td>\n",
       "      <td>-0.005552</td>\n",
       "      <td>-2.0</td>\n",
       "    </tr>\n",
       "    <tr>\n",
       "      <th>2023-07-26</th>\n",
       "      <td>13</td>\n",
       "      <td>182.660004</td>\n",
       "      <td>183.639999</td>\n",
       "      <td>182.309998</td>\n",
       "      <td>183.300003</td>\n",
       "      <td>182.410004</td>\n",
       "      <td>182.291998</td>\n",
       "      <td>1</td>\n",
       "      <td>0.004867</td>\n",
       "      <td>0.004867</td>\n",
       "      <td>2.0</td>\n",
       "    </tr>\n",
       "    <tr>\n",
       "      <th>2023-07-27</th>\n",
       "      <td>14</td>\n",
       "      <td>181.639999</td>\n",
       "      <td>181.639999</td>\n",
       "      <td>180.320007</td>\n",
       "      <td>180.419998</td>\n",
       "      <td>183.300003</td>\n",
       "      <td>182.433998</td>\n",
       "      <td>1</td>\n",
       "      <td>-0.015837</td>\n",
       "      <td>-0.015837</td>\n",
       "      <td>0.0</td>\n",
       "    </tr>\n",
       "    <tr>\n",
       "      <th>2023-07-28</th>\n",
       "      <td>15</td>\n",
       "      <td>181.479996</td>\n",
       "      <td>182.270004</td>\n",
       "      <td>181.250000</td>\n",
       "      <td>181.860001</td>\n",
       "      <td>180.419998</td>\n",
       "      <td>182.274998</td>\n",
       "      <td>-1</td>\n",
       "      <td>0.007950</td>\n",
       "      <td>-0.007950</td>\n",
       "      <td>-2.0</td>\n",
       "    </tr>\n",
       "  </tbody>\n",
       "</table>\n",
       "</div>"
      ],
      "text/plain": [
       "            day        Open        High         Low       Close       1-day  \\\n",
       "Date                                                                          \n",
       "2023-07-24   11  182.220001  182.539993  181.339996  181.399994  182.179993   \n",
       "2023-07-25   12  181.720001  182.470001  181.100006  182.410004  181.399994   \n",
       "2023-07-26   13  182.660004  183.639999  182.309998  183.300003  182.410004   \n",
       "2023-07-27   14  181.639999  181.639999  180.320007  180.419998  183.300003   \n",
       "2023-07-28   15  181.479996  182.270004  181.250000  181.860001  180.419998   \n",
       "\n",
       "                10-day  signal    return  system_return  entry  \n",
       "Date                                                            \n",
       "2023-07-24  181.733998       1       NaN            NaN    NaN  \n",
       "2023-07-25  181.995998      -1  0.005552      -0.005552   -2.0  \n",
       "2023-07-26  182.291998       1  0.004867       0.004867    2.0  \n",
       "2023-07-27  182.433998       1 -0.015837      -0.015837    0.0  \n",
       "2023-07-28  182.274998      -1  0.007950      -0.007950   -2.0  "
      ]
     },
     "execution_count": 6,
     "metadata": {},
     "output_type": "execute_result"
    }
   ],
   "source": [
    "gld['return'] = np.log(gld['Close']).diff() # Buy and hold\n",
    "gld['system_return'] = gld['signal'] * gld['return']\n",
    "gld['entry'] = gld.signal.diff()\n",
    "gld.head()"
   ]
  },
  {
   "cell_type": "code",
   "execution_count": 7,
   "metadata": {},
   "outputs": [
    {
     "data": {
      "image/png": "[encoded data removed]",
      "text/plain": [
       "<Figure size 864x432 with 1 Axes>"
      ]
     },
     "metadata": {
      "needs_background": "light"
     },
     "output_type": "display_data"
    }
   ],
   "source": [
    "# Plot trades on time series\n",
    "plt.rcParams['figure.figsize'] = 12, 6\n",
    "plt.grid(True, alpha = .3)\n",
    "plt.plot(gld.iloc[-252:]['Close'], label = 'GLD')\n",
    "plt.plot(gld.iloc[-252:]['1-day'], label = '1-day')\n",
    "plt.plot(gld.iloc[-252:]['10-day'], label = '10-day')\n",
    "plt.plot(gld[-252:].loc[gld.entry == 2].index, gld[-252:]['1-day'][gld.entry == 2], '^',\n",
    "         color = 'g', markersize = 12)\n",
    "plt.plot(gld[-252:].loc[gld.entry == -2].index, gld[-252:]['10-day'][gld.entry == -2], 'v',\n",
    "         color = 'r', markersize = 12)\n",
    "plt.legend(loc=2);"
   ]
  },
  {
   "cell_type": "code",
   "execution_count": 8,
   "metadata": {},
   "outputs": [
    {
     "data": {
      "image/png": "[encoded data removed]",
      "text/plain": [
       "<Figure size 864x432 with 1 Axes>"
      ]
     },
     "metadata": {
      "needs_background": "light"
     },
     "output_type": "display_data"
    }
   ],
   "source": [
    "# Compare to buy and hold strategy\n",
    "plt.plot(np.exp(gld['return']).cumprod(), label='Buy/Hold')\n",
    "plt.plot(np.exp(gld['system_return']).cumprod(), label='System')\n",
    "plt.legend(loc=2)\n",
    "plt.grid(True, alpha=.3)"
   ]
  },
  {
   "cell_type": "code",
   "execution_count": 9,
   "metadata": {},
   "outputs": [
    {
     "data": {
      "text/plain": [
       "0.20281152030201222"
      ]
     },
     "execution_count": 9,
     "metadata": {},
     "output_type": "execute_result"
    }
   ],
   "source": [
    "# Buy and hold\n",
    "np.exp(gld['return']).cumprod()[-1] -1 # Just today"
   ]
  },
  {
   "cell_type": "code",
   "execution_count": 10,
   "metadata": {},
   "outputs": [
    {
     "data": {
      "text/plain": [
       "0.12559730600503105"
      ]
     },
     "execution_count": 10,
     "metadata": {},
     "output_type": "execute_result"
    }
   ],
   "source": [
    "# The strategy\n",
    "np.exp(gld['system_return']).cumprod()[-1] -1 # Just today"
   ]
  },
  {
   "cell_type": "code",
   "execution_count": null,
   "metadata": {},
   "outputs": [],
   "source": []
  }
 ],
 "metadata": {
  "kernelspec": {
   "display_name": "Python 3",
   "language": "python",
   "name": "python3"
  },
  "language_info": {
   "codemirror_mode": {
    "name": "ipython",
    "version": 3
   },
   "file_extension": ".py",
   "mimetype": "text/x-python",
   "name": "python",
   "nbconvert_exporter": "python",
   "pygments_lexer": "ipython3",
   "version": "3.7.6"
  }
 },
 "nbformat": 4,
 "nbformat_minor": 4
}
